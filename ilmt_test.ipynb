{
 "cells": [
  {
   "cell_type": "code",
   "execution_count": 1,
   "metadata": {},
   "outputs": [],
   "source": [
    "import os \n",
    "import pandas as pd\n",
    "from utils.data import *\n",
    "from tqdm.auto import tqdm\n",
    "tqdm.pandas()\n",
    "#-------------\n",
    "# globals\n",
    "#-------------\n",
    "src_dir                 =   os.path.join(os.getcwd(),\"tests\",\"ILMT_TAGSET_TEST\")\n",
    "model_path              =   os.path.join(src_dir,\"keras_mlp_bangla.h5\")\n",
    "tagged_data_path        =   os.path.join(src_dir,\"nlp_data_bn_tagged_mod.txt\")\n",
    "untaggeed_data_path     =   os.path.join(src_dir,\"untagged.bn.txt\")\n"
   ]
  },
  {
   "cell_type": "markdown",
   "metadata": {},
   "source": [
    "# Data EDA"
   ]
  },
  {
   "cell_type": "code",
   "execution_count": 2,
   "metadata": {},
   "outputs": [
    {
     "data": {
      "application/vnd.jupyter.widget-view+json": {
       "model_id": "c6f3e42d01cd4ee088b133600e4c1f1d",
       "version_major": 2,
       "version_minor": 0
      },
      "text/plain": [
       "  0%|          | 0/2927 [00:00<?, ?it/s]"
      ]
     },
     "metadata": {},
     "output_type": "display_data"
    },
    {
     "data": {
      "application/vnd.jupyter.widget-view+json": {
       "model_id": "941a0082716649abb0bd64dfc280fa31",
       "version_major": 2,
       "version_minor": 0
      },
      "text/plain": [
       "  0%|          | 0/12514 [00:00<?, ?it/s]"
      ]
     },
     "metadata": {},
     "output_type": "display_data"
    }
   ],
   "source": [
    "EDA=True\n",
    "if EDA:\n",
    "    #----------------\n",
    "    # dataset EDA\n",
    "    #---------------\n",
    "    # get dataFrame\n",
    "    df=textfile_to_dataset(tagged_data_path,eda=True)\n",
    "    # get wtc\n",
    "    words=[]\n",
    "    tags=[]\n",
    "    counts=[]\n",
    "    for word in tqdm(df.word.unique()):\n",
    "        words.append(word)\n",
    "        _wdf=df.loc[df.word==word]\n",
    "        tags.append(_wdf.tag.unique())\n",
    "        counts.append(len(_wdf))\n",
    "    # format and save dataframe\n",
    "    dfs=pd.DataFrame({\"word\":words,\"tags\":tags,\"count\":counts})\n",
    "    dfs = dfs.sort_values(by=['count'], ascending=False)\n",
    "    dfs.to_csv(os.path.join(src_dir,\"tagged_data_wtc.csv\"),index=False)\n",
    "\n"
   ]
  },
  {
   "cell_type": "code",
   "execution_count": 3,
   "metadata": {},
   "outputs": [
    {
     "data": {
      "text/html": [
       "<div>\n",
       "<style scoped>\n",
       "    .dataframe tbody tr th:only-of-type {\n",
       "        vertical-align: middle;\n",
       "    }\n",
       "\n",
       "    .dataframe tbody tr th {\n",
       "        vertical-align: top;\n",
       "    }\n",
       "\n",
       "    .dataframe thead th {\n",
       "        text-align: right;\n",
       "    }\n",
       "</style>\n",
       "<table border=\"1\" class=\"dataframe\">\n",
       "  <thead>\n",
       "    <tr style=\"text-align: right;\">\n",
       "      <th></th>\n",
       "      <th>word</th>\n",
       "      <th>tags</th>\n",
       "      <th>count</th>\n",
       "    </tr>\n",
       "  </thead>\n",
       "  <tbody>\n",
       "    <tr>\n",
       "      <th>13</th>\n",
       "      <td>৷</td>\n",
       "      <td>[PU]</td>\n",
       "      <td>2344</td>\n",
       "    </tr>\n",
       "    <tr>\n",
       "      <th>7</th>\n",
       "      <td>,</td>\n",
       "      <td>[PU, PP]</td>\n",
       "      <td>1427</td>\n",
       "    </tr>\n",
       "    <tr>\n",
       "      <th>10263</th>\n",
       "      <td>।</td>\n",
       "      <td>[PU]</td>\n",
       "      <td>400</td>\n",
       "    </tr>\n",
       "    <tr>\n",
       "      <th>2</th>\n",
       "      <td>-</td>\n",
       "      <td>[PU, RDX]</td>\n",
       "      <td>370</td>\n",
       "    </tr>\n",
       "    <tr>\n",
       "      <th>30</th>\n",
       "      <td>না</td>\n",
       "      <td>[CX, CCD]</td>\n",
       "      <td>359</td>\n",
       "    </tr>\n",
       "    <tr>\n",
       "      <th>...</th>\n",
       "      <td>...</td>\n",
       "      <td>...</td>\n",
       "      <td>...</td>\n",
       "    </tr>\n",
       "    <tr>\n",
       "      <th>5911</th>\n",
       "      <td>অসাধ্য</td>\n",
       "      <td>[NC]</td>\n",
       "      <td>1</td>\n",
       "    </tr>\n",
       "    <tr>\n",
       "      <th>5909</th>\n",
       "      <td>পলায়ন</td>\n",
       "      <td>[NC]</td>\n",
       "      <td>1</td>\n",
       "    </tr>\n",
       "    <tr>\n",
       "      <th>5905</th>\n",
       "      <td>হিমানী</td>\n",
       "      <td>[NP]</td>\n",
       "      <td>1</td>\n",
       "    </tr>\n",
       "    <tr>\n",
       "      <th>5902</th>\n",
       "      <td>লাইনে</td>\n",
       "      <td>[NC]</td>\n",
       "      <td>1</td>\n",
       "    </tr>\n",
       "    <tr>\n",
       "      <th>12513</th>\n",
       "      <td>পরিস্কারভাবে</td>\n",
       "      <td>[AMN]</td>\n",
       "      <td>1</td>\n",
       "    </tr>\n",
       "  </tbody>\n",
       "</table>\n",
       "<p>12514 rows × 3 columns</p>\n",
       "</div>"
      ],
      "text/plain": [
       "               word       tags  count\n",
       "13                ৷       [PU]   2344\n",
       "7                 ,   [PU, PP]   1427\n",
       "10263             ।       [PU]    400\n",
       "2                 -  [PU, RDX]    370\n",
       "30               না  [CX, CCD]    359\n",
       "...             ...        ...    ...\n",
       "5911         অসাধ্য       [NC]      1\n",
       "5909          পলায়ন       [NC]      1\n",
       "5905         হিমানী       [NP]      1\n",
       "5902          লাইনে       [NC]      1\n",
       "12513  পরিস্কারভাবে      [AMN]      1\n",
       "\n",
       "[12514 rows x 3 columns]"
      ]
     },
     "execution_count": 3,
     "metadata": {},
     "output_type": "execute_result"
    }
   ],
   "source": [
    "dfs"
   ]
  },
  {
   "cell_type": "markdown",
   "metadata": {},
   "source": [
    "# Vectorizing Data and Encoding Labels"
   ]
  },
  {
   "cell_type": "code",
   "execution_count": 4,
   "metadata": {},
   "outputs": [
    {
     "data": {
      "application/vnd.jupyter.widget-view+json": {
       "model_id": "869d3bc63a634e2eaef126efaa39d8c3",
       "version_major": 2,
       "version_minor": 0
      },
      "text/plain": [
       "  0%|          | 0/2927 [00:00<?, ?it/s]"
      ]
     },
     "metadata": {},
     "output_type": "display_data"
    },
    {
     "data": {
      "application/vnd.jupyter.widget-view+json": {
       "model_id": "13967229f8d046f688996c489ccb84e5",
       "version_major": 2,
       "version_minor": 0
      },
      "text/plain": [
       "  0%|          | 0/2927 [00:00<?, ?it/s]"
      ]
     },
     "metadata": {},
     "output_type": "display_data"
    },
    {
     "name": "stdout",
     "output_type": "stream",
     "text": [
      "Done!\n"
     ]
    }
   ],
   "source": [
    "from sklearn.feature_extraction import DictVectorizer\n",
    "from sklearn.preprocessing import LabelEncoder\n",
    "#----------------\n",
    "# dataset \n",
    "#---------------\n",
    "# get features and classes\n",
    "X,y=textfile_to_dataset(tagged_data_path,eda=False)\n",
    "# create dict vectorizer\n",
    "dict_vectorizer = DictVectorizer(sparse=False)\n",
    "dict_vectorizer.fit(X)\n",
    "# create label encoder\n",
    "label_encoder = LabelEncoder()\n",
    "label_encoder.fit(y)\n",
    "print(\"Done!\")"
   ]
  },
  {
   "cell_type": "markdown",
   "metadata": {},
   "source": [
    "# Model Analysis"
   ]
  },
  {
   "cell_type": "code",
   "execution_count": 5,
   "metadata": {},
   "outputs": [
    {
     "name": "stdout",
     "output_type": "stream",
     "text": [
      "Model: \"sequential_1\"\n",
      "_________________________________________________________________\n",
      "Layer (type)                 Output Shape              Param #   \n",
      "=================================================================\n",
      "dense_1 (Dense)              (None, 512)               24136192  \n",
      "_________________________________________________________________\n",
      "activation_1 (Activation)    (None, 512)               0         \n",
      "_________________________________________________________________\n",
      "dropout_1 (Dropout)          (None, 512)               0         \n",
      "_________________________________________________________________\n",
      "dense_2 (Dense)              (None, 512)               262656    \n",
      "_________________________________________________________________\n",
      "activation_2 (Activation)    (None, 512)               0         \n",
      "_________________________________________________________________\n",
      "dropout_2 (Dropout)          (None, 512)               0         \n",
      "_________________________________________________________________\n",
      "dense_3 (Dense)              (None, 36)                18468     \n",
      "=================================================================\n",
      "Total params: 24,417,316\n",
      "Trainable params: 24,417,316\n",
      "Non-trainable params: 0\n",
      "_________________________________________________________________\n"
     ]
    }
   ],
   "source": [
    "import keras\n",
    "model=keras.models.load_model(model_path)\n",
    "model.summary()"
   ]
  },
  {
   "cell_type": "markdown",
   "metadata": {},
   "source": [
    "# Sample Test"
   ]
  },
  {
   "cell_type": "code",
   "execution_count": 6,
   "metadata": {},
   "outputs": [],
   "source": [
    "from utils.tagger import BanglaPOSTagger\n",
    "tagger=BanglaPOSTagger(model,label_encoder,dict_vectorizer)\n"
   ]
  },
  {
   "cell_type": "code",
   "execution_count": 7,
   "metadata": {},
   "outputs": [
    {
     "data": {
      "text/plain": [
       "[('দুশ্চিন্তার', 'NC'), ('কোন', 'JQ'), ('কারণই', 'NC'), ('নাই', 'CX')]"
      ]
     },
     "execution_count": 7,
     "metadata": {},
     "output_type": "execute_result"
    }
   ],
   "source": [
    "# test\n",
    "sentence = 'দুশ্চিন্তার কোন কারণই নাই'\n",
    "tagger.tag(sentence)"
   ]
  },
  {
   "cell_type": "markdown",
   "metadata": {},
   "source": [
    "# Untagged Data"
   ]
  },
  {
   "cell_type": "code",
   "execution_count": 8,
   "metadata": {},
   "outputs": [],
   "source": [
    "# read the untagged_data\n",
    "with open(untaggeed_data_path, encoding='utf8') as f:\n",
    "    # read lines\n",
    "    texts=f.readlines()\n"
   ]
  },
  {
   "cell_type": "code",
   "execution_count": 24,
   "metadata": {},
   "outputs": [
    {
     "data": {
      "application/vnd.jupyter.widget-view+json": {
       "model_id": "02b8847c31a14eeeb4e6788f6f923eb0",
       "version_major": 2,
       "version_minor": 0
      },
      "text/plain": [
       "  0%|          | 0/1000 [00:00<?, ?it/s]"
      ]
     },
     "metadata": {},
     "output_type": "display_data"
    }
   ],
   "source": [
    "import string\n",
    "existing_words=dfs.word.tolist()\n",
    "sentences=[]\n",
    "results=[]\n",
    "non_found_sentences=[]\n",
    "\n",
    "for line in tqdm(texts):\n",
    "    line=line.replace(\"\\n\",\"\")\n",
    "    try:        \n",
    "        results.append(tagger.tag(line))\n",
    "        sentences.append(line)\n",
    "    except Exception as e:\n",
    "        non_found_sentences.append(line)\n",
    "            "
   ]
  },
  {
   "cell_type": "code",
   "execution_count": 25,
   "metadata": {},
   "outputs": [
    {
     "data": {
      "text/plain": [
       "623"
      ]
     },
     "execution_count": 25,
     "metadata": {},
     "output_type": "execute_result"
    }
   ],
   "source": [
    "len(non_found_sentences)"
   ]
  },
  {
   "cell_type": "code",
   "execution_count": 26,
   "metadata": {},
   "outputs": [
    {
     "data": {
      "text/html": [
       "<div>\n",
       "<style scoped>\n",
       "    .dataframe tbody tr th:only-of-type {\n",
       "        vertical-align: middle;\n",
       "    }\n",
       "\n",
       "    .dataframe tbody tr th {\n",
       "        vertical-align: top;\n",
       "    }\n",
       "\n",
       "    .dataframe thead th {\n",
       "        text-align: right;\n",
       "    }\n",
       "</style>\n",
       "<table border=\"1\" class=\"dataframe\">\n",
       "  <thead>\n",
       "    <tr style=\"text-align: right;\">\n",
       "      <th></th>\n",
       "      <th>sentence</th>\n",
       "      <th>predictions</th>\n",
       "    </tr>\n",
       "  </thead>\n",
       "  <tbody>\n",
       "    <tr>\n",
       "      <th>0</th>\n",
       "      <td>তুরুপ</td>\n",
       "      <td>[(তুরুপ, NC)]</td>\n",
       "    </tr>\n",
       "    <tr>\n",
       "      <th>1</th>\n",
       "      <td>পদদলিত করা</td>\n",
       "      <td>[(পদদলিত, JJ), (করা, NV)]</td>\n",
       "    </tr>\n",
       "    <tr>\n",
       "      <th>2</th>\n",
       "      <td>পোর্ট কোম্পানি লিমিটেড - কেপিসিএল</td>\n",
       "      <td>[(পোর্ট, NC), (কোম্পানি, NP), (লিমিটেড, NP), (...</td>\n",
       "    </tr>\n",
       "    <tr>\n",
       "      <th>3</th>\n",
       "      <td>তোলপাড়</td>\n",
       "      <td>[(তোলপাড়, PPR)]</td>\n",
       "    </tr>\n",
       "    <tr>\n",
       "      <th>4</th>\n",
       "      <td>ক্লাব.</td>\n",
       "      <td>[(ক্লাব, NC), (., PWH)]</td>\n",
       "    </tr>\n",
       "    <tr>\n",
       "      <th>...</th>\n",
       "      <td>...</td>\n",
       "      <td>...</td>\n",
       "    </tr>\n",
       "    <tr>\n",
       "      <th>372</th>\n",
       "      <td>গ্রাম</td>\n",
       "      <td>[(গ্রাম, NC)]</td>\n",
       "    </tr>\n",
       "    <tr>\n",
       "      <th>373</th>\n",
       "      <td>রাজনীতিবিদ</td>\n",
       "      <td>[(রাজনীতিবিদ, NC)]</td>\n",
       "    </tr>\n",
       "    <tr>\n",
       "      <th>374</th>\n",
       "      <td>সুযোগের স্বব্যবহার করা</td>\n",
       "      <td>[(সুযোগের, NC), (স্বব্যবহার, NC), (করা, NV)]</td>\n",
       "    </tr>\n",
       "    <tr>\n",
       "      <th>375</th>\n",
       "      <td>গৃহধূম</td>\n",
       "      <td>[(গৃহধূম, NP)]</td>\n",
       "    </tr>\n",
       "    <tr>\n",
       "      <th>376</th>\n",
       "      <td>বিশুদ্ধিকারক</td>\n",
       "      <td>[(বিশুদ্ধিকারক, NP)]</td>\n",
       "    </tr>\n",
       "  </tbody>\n",
       "</table>\n",
       "<p>377 rows × 2 columns</p>\n",
       "</div>"
      ],
      "text/plain": [
       "                              sentence  \\\n",
       "0                                তুরুপ   \n",
       "1                           পদদলিত করা   \n",
       "2    পোর্ট কোম্পানি লিমিটেড - কেপিসিএল   \n",
       "3                               তোলপাড়   \n",
       "4                               ক্লাব.   \n",
       "..                                 ...   \n",
       "372                              গ্রাম   \n",
       "373                         রাজনীতিবিদ   \n",
       "374             সুযোগের স্বব্যবহার করা   \n",
       "375                             গৃহধূম   \n",
       "376                       বিশুদ্ধিকারক   \n",
       "\n",
       "                                           predictions  \n",
       "0                                        [(তুরুপ, NC)]  \n",
       "1                            [(পদদলিত, JJ), (করা, NV)]  \n",
       "2    [(পোর্ট, NC), (কোম্পানি, NP), (লিমিটেড, NP), (...  \n",
       "3                                      [(তোলপাড়, PPR)]  \n",
       "4                              [(ক্লাব, NC), (., PWH)]  \n",
       "..                                                 ...  \n",
       "372                                      [(গ্রাম, NC)]  \n",
       "373                                 [(রাজনীতিবিদ, NC)]  \n",
       "374       [(সুযোগের, NC), (স্বব্যবহার, NC), (করা, NV)]  \n",
       "375                                     [(গৃহধূম, NP)]  \n",
       "376                               [(বিশুদ্ধিকারক, NP)]  \n",
       "\n",
       "[377 rows x 2 columns]"
      ]
     },
     "execution_count": 26,
     "metadata": {},
     "output_type": "execute_result"
    }
   ],
   "source": [
    "res=pd.DataFrame({\"sentence\":sentences,\"predictions\":results})\n",
    "res"
   ]
  },
  {
   "cell_type": "code",
   "execution_count": 32,
   "metadata": {},
   "outputs": [
    {
     "data": {
      "application/vnd.jupyter.widget-view+json": {
       "model_id": "8b8881fef9c94f188374de5962f5b20a",
       "version_major": 2,
       "version_minor": 0
      },
      "text/plain": [
       "  0%|          | 0/377 [00:00<?, ?it/s]"
      ]
     },
     "metadata": {},
     "output_type": "display_data"
    }
   ],
   "source": [
    "col_fmt='<span style=\"color:green\"><em>{}</em></span>'\n",
    "with open('ilmt_test_results.md', 'a') as f:\n",
    "    for pred in tqdm(res.predictions.tolist()):\n",
    "        line='<p>'\n",
    "        # line\n",
    "        for tup in pred:\n",
    "            line+=tup[0]+' '+col_fmt.format(tup[1])+' '\n",
    "        line+='<p>\\n'\n",
    "        f.write(line)"
   ]
  },
  {
   "cell_type": "code",
   "execution_count": null,
   "metadata": {},
   "outputs": [],
   "source": []
  }
 ],
 "metadata": {
  "kernelspec": {
   "display_name": "postagenv",
   "language": "python",
   "name": "postagenv"
  },
  "language_info": {
   "codemirror_mode": {
    "name": "ipython",
    "version": 3
   },
   "file_extension": ".py",
   "mimetype": "text/x-python",
   "name": "python",
   "nbconvert_exporter": "python",
   "pygments_lexer": "ipython3",
   "version": "3.6.9"
  }
 },
 "nbformat": 4,
 "nbformat_minor": 5
}
