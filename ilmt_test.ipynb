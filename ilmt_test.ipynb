{
 "cells": [
  {
   "cell_type": "code",
   "execution_count": 1,
   "metadata": {},
   "outputs": [],
   "source": [
    "import os \n",
    "import pandas as pd\n",
    "from utils.data import *\n",
    "from tqdm.auto import tqdm\n",
    "tqdm.pandas()\n",
    "#-------------\n",
    "# globals\n",
    "#-------------\n",
    "src_dir                 =   os.path.join(os.getcwd(),\"tests\",\"ILMT_TAGSET_TEST\")\n",
    "model_path              =   os.path.join(src_dir,\"keras_mlp_bangla.h5\")\n",
    "tagged_data_path        =   os.path.join(src_dir,\"nlp_data_bn_tagged_mod.txt\")\n",
    "untaggeed_data_path     =   os.path.join(src_dir,\"untagged.bn.txt\")\n"
   ]
  },
  {
   "cell_type": "markdown",
   "metadata": {},
   "source": [
    "# Data EDA"
   ]
  },
  {
   "cell_type": "code",
   "execution_count": 2,
   "metadata": {},
   "outputs": [],
   "source": [
    "EDA=False\n",
    "if EDA:\n",
    "    #----------------\n",
    "    # dataset EDA\n",
    "    #---------------\n",
    "    # get dataFrame\n",
    "    df=textfile_to_dataset(tagged_data_path,eda=True)\n",
    "    # get wtc\n",
    "    words=[]\n",
    "    tags=[]\n",
    "    counts=[]\n",
    "    for word in tqdm(df.word.unique()):\n",
    "        words.append(word)\n",
    "        _wdf=df.loc[df.word==word]\n",
    "        tags.append(_wdf.tag.unique())\n",
    "        counts.append(len(_wdf))\n",
    "    # format and save dataframe\n",
    "    dfs=pd.DataFrame({\"word\":words,\"tags\":tags,\"count\":counts})\n",
    "    dfs = dfs.sort_values(by=['count'], ascending=False)\n",
    "    dfs.to_csv(os.path.join(src_dir,\"tagged_data_wtc.csv\"),index=False)\n",
    "\n",
    "#dfs\n"
   ]
  },
  {
   "cell_type": "markdown",
   "metadata": {},
   "source": [
    "# Vectorizing Data and Encoding Labels"
   ]
  },
  {
   "cell_type": "code",
   "execution_count": 3,
   "metadata": {},
   "outputs": [
    {
     "data": {
      "application/vnd.jupyter.widget-view+json": {
       "model_id": "ebfde5aed0d7404f9856f625b0d11b34",
       "version_major": 2,
       "version_minor": 0
      },
      "text/plain": [
       "  0%|          | 0/2927 [00:00<?, ?it/s]"
      ]
     },
     "metadata": {},
     "output_type": "display_data"
    },
    {
     "data": {
      "application/vnd.jupyter.widget-view+json": {
       "model_id": "d9a7b69692694d6b8201e2fefc266cb6",
       "version_major": 2,
       "version_minor": 0
      },
      "text/plain": [
       "  0%|          | 0/2927 [00:00<?, ?it/s]"
      ]
     },
     "metadata": {},
     "output_type": "display_data"
    },
    {
     "name": "stdout",
     "output_type": "stream",
     "text": [
      "Done!\n"
     ]
    }
   ],
   "source": [
    "from sklearn.feature_extraction import DictVectorizer\n",
    "from sklearn.preprocessing import LabelEncoder\n",
    "#----------------\n",
    "# dataset \n",
    "#---------------\n",
    "# get features and classes\n",
    "X,y=textfile_to_dataset(tagged_data_path,eda=False)\n",
    "# create dict vectorizer\n",
    "dict_vectorizer = DictVectorizer(sparse=False)\n",
    "dict_vectorizer.fit(X)\n",
    "# create label encoder\n",
    "label_encoder = LabelEncoder()\n",
    "label_encoder.fit(y)\n",
    "print(\"Done!\")"
   ]
  },
  {
   "cell_type": "markdown",
   "metadata": {},
   "source": [
    "# Model Analysis"
   ]
  },
  {
   "cell_type": "code",
   "execution_count": 4,
   "metadata": {},
   "outputs": [
    {
     "name": "stdout",
     "output_type": "stream",
     "text": [
      "Model: \"sequential_1\"\n",
      "_________________________________________________________________\n",
      "Layer (type)                 Output Shape              Param #   \n",
      "=================================================================\n",
      "dense_1 (Dense)              (None, 512)               24136192  \n",
      "_________________________________________________________________\n",
      "activation_1 (Activation)    (None, 512)               0         \n",
      "_________________________________________________________________\n",
      "dropout_1 (Dropout)          (None, 512)               0         \n",
      "_________________________________________________________________\n",
      "dense_2 (Dense)              (None, 512)               262656    \n",
      "_________________________________________________________________\n",
      "activation_2 (Activation)    (None, 512)               0         \n",
      "_________________________________________________________________\n",
      "dropout_2 (Dropout)          (None, 512)               0         \n",
      "_________________________________________________________________\n",
      "dense_3 (Dense)              (None, 36)                18468     \n",
      "=================================================================\n",
      "Total params: 24,417,316\n",
      "Trainable params: 24,417,316\n",
      "Non-trainable params: 0\n",
      "_________________________________________________________________\n"
     ]
    }
   ],
   "source": [
    "import keras\n",
    "model=keras.models.load_model(model_path)\n",
    "model.summary()"
   ]
  },
  {
   "cell_type": "markdown",
   "metadata": {},
   "source": [
    "# Sample Test"
   ]
  },
  {
   "cell_type": "code",
   "execution_count": 5,
   "metadata": {},
   "outputs": [
    {
     "data": {
      "text/plain": [
       "[('দুশ্চিন্তার', 'NC'), ('কোন', 'JQ'), ('কারণই', 'NC'), ('নাই', 'CX')]"
      ]
     },
     "execution_count": 5,
     "metadata": {},
     "output_type": "execute_result"
    }
   ],
   "source": [
    "from utils.tagger import BanglaPOSTagger\n",
    "tagger=BanglaPOSTagger(model,label_encoder,dict_vectorizer)\n"
   ]
  },
  {
   "cell_type": "code",
   "execution_count": 9,
   "metadata": {},
   "outputs": [
    {
     "data": {
      "text/plain": [
       "[('দুশ্চিন্তার', 'NC'), ('কোন', 'JQ'), ('কারণই', 'NC'), ('নাই', 'CX')]"
      ]
     },
     "execution_count": 9,
     "metadata": {},
     "output_type": "execute_result"
    }
   ],
   "source": [
    "# test\n",
    "sentence = 'দুশ্চিন্তার কোন কারণই নাই'\n",
    "tagger.tag(sentence)"
   ]
  },
  {
   "cell_type": "markdown",
   "metadata": {},
   "source": [
    "# Untagged Data"
   ]
  },
  {
   "cell_type": "code",
   "execution_count": 8,
   "metadata": {},
   "outputs": [
    {
     "data": {
      "application/vnd.jupyter.widget-view+json": {
       "model_id": "8adef27d01de4b9ba6485341dac30c89",
       "version_major": 2,
       "version_minor": 0
      },
      "text/plain": [
       "  0%|          | 0/1000 [00:00<?, ?it/s]"
      ]
     },
     "metadata": {},
     "output_type": "display_data"
    },
    {
     "data": {
      "text/html": [
       "<div>\n",
       "<style scoped>\n",
       "    .dataframe tbody tr th:only-of-type {\n",
       "        vertical-align: middle;\n",
       "    }\n",
       "\n",
       "    .dataframe tbody tr th {\n",
       "        vertical-align: top;\n",
       "    }\n",
       "\n",
       "    .dataframe thead th {\n",
       "        text-align: right;\n",
       "    }\n",
       "</style>\n",
       "<table border=\"1\" class=\"dataframe\">\n",
       "  <thead>\n",
       "    <tr style=\"text-align: right;\">\n",
       "      <th></th>\n",
       "      <th>word</th>\n",
       "      <th>tag</th>\n",
       "    </tr>\n",
       "  </thead>\n",
       "  <tbody>\n",
       "    <tr>\n",
       "      <th>0</th>\n",
       "      <td>আবার</td>\n",
       "      <td>আবার</td>\n",
       "    </tr>\n",
       "    <tr>\n",
       "      <th>1</th>\n",
       "      <td>সবাইকে</td>\n",
       "      <td>সবাইকে</td>\n",
       "    </tr>\n",
       "    <tr>\n",
       "      <th>2</th>\n",
       "      <td>যার</td>\n",
       "      <td>যার</td>\n",
       "    </tr>\n",
       "    <tr>\n",
       "      <th>3</th>\n",
       "      <td>যার</td>\n",
       "      <td>যার</td>\n",
       "    </tr>\n",
       "    <tr>\n",
       "      <th>4</th>\n",
       "      <td>ইচ্ছামতো</td>\n",
       "      <td>ইচ্ছামতো</td>\n",
       "    </tr>\n",
       "    <tr>\n",
       "      <th>...</th>\n",
       "      <td>...</td>\n",
       "      <td>...</td>\n",
       "    </tr>\n",
       "    <tr>\n",
       "      <th>11303</th>\n",
       "      <td>ফসলের</td>\n",
       "      <td>ফসলের</td>\n",
       "    </tr>\n",
       "    <tr>\n",
       "      <th>11304</th>\n",
       "      <td>অর্ধেক</td>\n",
       "      <td>অর্ধেক</td>\n",
       "    </tr>\n",
       "    <tr>\n",
       "      <th>11305</th>\n",
       "      <td>জোতদারদের</td>\n",
       "      <td>জোতদারদের</td>\n",
       "    </tr>\n",
       "    <tr>\n",
       "      <th>11306</th>\n",
       "      <td>দিতে</td>\n",
       "      <td>দিতে</td>\n",
       "    </tr>\n",
       "    <tr>\n",
       "      <th>11307</th>\n",
       "      <td>হতো।</td>\n",
       "      <td>হতো।</td>\n",
       "    </tr>\n",
       "  </tbody>\n",
       "</table>\n",
       "<p>11308 rows × 2 columns</p>\n",
       "</div>"
      ],
      "text/plain": [
       "            word        tag\n",
       "0           আবার       আবার\n",
       "1         সবাইকে     সবাইকে\n",
       "2            যার        যার\n",
       "3            যার        যার\n",
       "4       ইচ্ছামতো   ইচ্ছামতো\n",
       "...          ...        ...\n",
       "11303      ফসলের      ফসলের\n",
       "11304     অর্ধেক     অর্ধেক\n",
       "11305  জোতদারদের  জোতদারদের\n",
       "11306       দিতে       দিতে\n",
       "11307       হতো।       হতো।\n",
       "\n",
       "[11308 rows x 2 columns]"
      ]
     },
     "execution_count": 8,
     "metadata": {},
     "output_type": "execute_result"
    }
   ],
   "source": [
    "# read the tagged_data\n",
    "with open(text_file, encoding='utf8') as f:\n",
    "    # read lines\n",
    "    texts=f.readlines()\n"
   ]
  },
  {
   "cell_type": "code",
   "execution_count": null,
   "metadata": {},
   "outputs": [],
   "source": [
    "for line in texts:\n",
    "    "
   ]
  }
 ],
 "metadata": {
  "kernelspec": {
   "display_name": "postagenv",
   "language": "python",
   "name": "postagenv"
  },
  "language_info": {
   "codemirror_mode": {
    "name": "ipython",
    "version": 3
   },
   "file_extension": ".py",
   "mimetype": "text/x-python",
   "name": "python",
   "nbconvert_exporter": "python",
   "pygments_lexer": "ipython3",
   "version": "3.6.9"
  }
 },
 "nbformat": 4,
 "nbformat_minor": 5
}
